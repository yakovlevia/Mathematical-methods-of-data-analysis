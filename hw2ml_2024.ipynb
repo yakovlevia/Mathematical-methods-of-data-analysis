{
  "cells": [
    {
      "cell_type": "markdown",
      "metadata": {
        "id": "tBrDXMdDy-Qn"
      },
      "source": [
        "# HSE 2024: Mathematical Methods for Data Analysis\n",
        "\n",
        "## Homework 2"
      ]
    },
    {
      "cell_type": "markdown",
      "metadata": {
        "id": "RXXi5K1mf41d"
      },
      "source": [
        "# Attention!\n",
        "\n",
        "* For tasks where <ins>text answer</ins> is required **Russian language** is **allowed**.\n",
        "* If a task asks you to describe something (make coclusions) then **text answer** is **mandatory** and **is** part of the task\n",
        "* **Do not** upload the dataset (titanic.csv) to the grading system (we already have it)\n",
        "* We **only** accept **ipynb** notebooks. If you use Google Colab then you'll have to download the notebook before passing the homework\n",
        "* **Do not** use python loops instead of NumPy vector operations over NumPy vectors - it significantly decreases performance (see why https://blog.paperspace.com/numpy-optimization-vectorization-and-broadcasting/), will be punished with -0.25 for **every** task.\n",
        "Loops are only allowed in part 1 (Tasks 1 - 4).\n",
        "* Some tasks contain tests. They only test you solution on a simple example, thus, passing the test does **not** guarantee you the full grade for the task.\n",
        "\n",
        "If the task asks for an explanation of something, it means that a written answer is required, which is part of the task and is assessed\n",
        "\n",
        "We only accept ipynb notebooks. If you use Google Colab, you need to download the notebook before submitting your homework"
      ]
    },
    {
      "cell_type": "code",
      "execution_count": null,
      "metadata": {
        "id": "mSR-a9vVy-Qp"
      },
      "outputs": [],
      "source": [
        "import pandas as pd\n",
        "import numpy as np\n",
        "import matplotlib.pyplot as plt\n",
        "import seaborn as sns\n",
        "import sklearn\n",
        "from sklearn import datasets\n",
        "from sklearn.model_selection import GridSearchCV\n",
        "from sklearn.model_selection import train_test_split\n",
        "from sklearn.linear_model import Ridge\n",
        "from sklearn.preprocessing import StandardScaler, LabelEncoder\n",
        "from sklearn.linear_model import LinearRegression, Ridge, Lasso, ElasticNet\n",
        "from sklearn.metrics import mean_squared_error, r2_score\n",
        "import statsmodels.api as sm\n",
        "from statsmodels.regression.linear_model import OLSResults\n",
        "from math import sqrt\n",
        "import random\n",
        "import sys\n",
        "\n",
        "\n",
        "import warnings\n",
        "warnings.filterwarnings(\"ignore\")\n",
        "\n",
        "%matplotlib inline\n",
        "\n",
        "sns.set(style=\"darkgrid\")"
      ]
    },
    {
      "cell_type": "markdown",
      "metadata": {
        "id": "HUjuv9Qty-Qq"
      },
      "source": [
        "### Data\n",
        "\n",
        "For this homework we will use a dataset of tracks from the streaming service Spotify"
      ]
    },
    {
      "cell_type": "markdown",
      "metadata": {
        "id": "pHSjHiIDOgHP"
      },
      "source": [
        "**Описание данных**\n",
        "\n",
        "- **track_id:** The Spotify ID for the track\n",
        "- **artists:** The artists' names who performed the track. If there is more than one artist, they are separated by a ;\n",
        "- **album_name:** The album name in which the track appears\n",
        "- **track_name:** Name of the track\n",
        "- **popularity:** The popularity of a track is a value between 0 and 100, with 100 being the most popular. The popularity is calculated by algorithm and is based, in the most part, on the total number of plays the track has had and how recent those plays are. Generally speaking, songs that are being played a lot now will have a higher popularity than songs that were played a lot in the past. Duplicate tracks (e.g. the same track from a single and an album) are rated independently. Artist and album popularity is derived mathematically from track popularity.\n",
        "- **duration_ms:** The track length in milliseconds\n",
        "- **explicit:** Whether or not the track has explicit lyrics (true = yes it does; false = no it does not OR unknown)\n",
        "- **danceability:** Danceability describes how suitable a track is for dancing based on a combination of musical elements including tempo, rhythm stability, beat strength, and overall regularity. A value of 0.0 is least danceable and 1.0 is most danceable\n",
        "- **key:** The key the track is in. Integers map to pitches using standard Pitch Class notation. E.g. 0 = C, 1 = C♯/D♭, 2 = D, and so on. If no key was detected, the value is -1\n",
        "- **loudness:** The overall loudness of a track in decibels (dB)\n",
        "- **mode:** Mode indicates the modality (major or minor) of a track, the type of scale from which its melodic content is derived. Major is represented by 1 and minor is 0\n",
        "- **speechiness:** Speechiness detects the presence of spoken words in a track. The more exclusively speech-like the recording (e.g. talk show, audio book, poetry), the closer to 1.0 the attribute value. Values above 0.66 describe tracks that are probably made entirely of spoken words. Values between 0.33 and 0.66 describe tracks that may contain both music and speech, either in sections or layered, including such cases as rap music. Values below 0.33 most likely represent music and other non-speech-like tracks\n",
        "- **acousticness:** A confidence measure from 0.0 to 1.0 of whether the track is acoustic. 1.0 represents high confidence the track is acoustic\n",
        "- **instrumentalness:** Predicts whether a track contains no vocals. \"Ooh\" and \"aah\" sounds are treated as instrumental in this context. Rap or spoken word tracks are clearly \"vocal\". The closer the instrumentalness value is to 1.0, the greater likelihood the track contains no vocal content\n",
        "- **liveness:** Detects the presence of an audience in the recording. Higher liveness values represent an increased probability that the track was performed live. A value above 0.8 provides strong likelihood that the track is live\n",
        "- **valence:** A measure from 0.0 to 1.0 describing the musical positiveness conveyed by a track. Tracks with high valence sound more positive (e.g. happy, cheerful, euphoric), while tracks with low valence sound more negative (e.g. sad, depressed, angry)\n",
        "- **tempo:** The overall estimated tempo of a track in beats per minute (BPM). In musical terminology, tempo is the speed or pace of a given piece and derives directly from the average beat duration\n",
        "- **time_signature:** An estimated time signature. The time signature (meter) is a notational convention to specify how many beats are in each bar (or measure). The time signature ranges from 3 to 7 indicating time signatures of 3/4, to 7/4.\n",
        "- **track_genre:** The genre in which the track belongs\n",
        "\n",
        "**Target variable**\n",
        "- **energy:** Energy is a measure from 0.0 to 1.0 and represents a perceptual measure of intensity and activity. Typically, energetic tracks feel fast, loud, and noisy. For example, death metal has high energy, while a Bach prelude scores low on the scale"
      ]
    },
    {
      "cell_type": "code",
      "execution_count": null,
      "metadata": {
        "id": "tHWSWTXDy-Qq"
      },
      "outputs": [],
      "source": [
        "data = pd.read_csv('dataset.csv')\n",
        "\n",
        "y = data['energy']\n",
        "X = data.drop(['energy'], axis=1)\n",
        "columns = X.columns"
      ]
    },
    {
      "cell_type": "code",
      "execution_count": null,
      "metadata": {
        "colab": {
          "base_uri": "https://localhost:8080/"
        },
        "id": "lJ4ZPjU2ibMd",
        "outputId": "85bfdb9f-392c-42e7-c04e-e70befdb9618"
      },
      "outputs": [
        {
          "output_type": "stream",
          "name": "stdout",
          "text": [
            "<class 'pandas.core.frame.DataFrame'>\n",
            "RangeIndex: 114000 entries, 0 to 113999\n",
            "Data columns (total 18 columns):\n",
            " #   Column            Non-Null Count   Dtype  \n",
            "---  ------            --------------   -----  \n",
            " 0   artists           113999 non-null  object \n",
            " 1   album_name        113999 non-null  object \n",
            " 2   track_name        113999 non-null  object \n",
            " 3   popularity        114000 non-null  int64  \n",
            " 4   duration_ms       114000 non-null  int64  \n",
            " 5   explicit          114000 non-null  bool   \n",
            " 6   danceability      114000 non-null  float64\n",
            " 7   key               114000 non-null  int64  \n",
            " 8   loudness          114000 non-null  float64\n",
            " 9   mode              114000 non-null  int64  \n",
            " 10  speechiness       114000 non-null  float64\n",
            " 11  acousticness      114000 non-null  float64\n",
            " 12  instrumentalness  114000 non-null  float64\n",
            " 13  liveness          114000 non-null  float64\n",
            " 14  valence           114000 non-null  float64\n",
            " 15  tempo             114000 non-null  float64\n",
            " 16  time_signature    114000 non-null  int64  \n",
            " 17  track_genre       114000 non-null  object \n",
            "dtypes: bool(1), float64(8), int64(5), object(4)\n",
            "memory usage: 14.9+ MB\n"
          ]
        }
      ],
      "source": [
        "X.info()"
      ]
    },
    {
      "cell_type": "markdown",
      "metadata": {
        "id": "K81w8s35y-Qq"
      },
      "source": [
        "## Linear Regression"
      ]
    },
    {
      "cell_type": "markdown",
      "metadata": {
        "id": "cYgEN-FMy-Qr"
      },
      "source": [
        "#### 0. [0.25 points] Code the categorical features. Explain the method you have chosen."
      ]
    },
    {
      "cell_type": "code",
      "execution_count": null,
      "metadata": {
        "id": "-IrSlQaWy-Qr"
      },
      "outputs": [],
      "source": [
        "# your code here\n",
        "#╰( ͡° ͜ʖ ͡° )つ──☆*:・ﾟ\n",
        "X_encoded = pd.get_dummies(X, columns=['track_genre'])\n",
        "X_encoded = X_encoded.drop(['artists'], axis=1)\n",
        "X_encoded = X_encoded.drop(['track_name'], axis=1)\n",
        "\n",
        "album_song_counts = X_encoded['album_name'].value_counts()\n",
        "X_encoded['album_cnt'] = X_encoded['album_name'].map(album_song_counts)\n",
        "X_encoded = X_encoded.drop(['album_name'], axis=1)\n",
        "X_encoded['album_cnt'] = X_encoded['album_cnt'].fillna(1)"
      ]
    },
    {
      "cell_type": "code",
      "execution_count": null,
      "metadata": {
        "id": "tlvSnRMcJ75r"
      },
      "outputs": [],
      "source": [
        "X_droped = X.drop(['artists'], axis=1)\n",
        "X_droped = X_droped.drop(['album_name'], axis=1)\n",
        "X_droped = X_droped.drop(['track_name'], axis=1)\n",
        "X_droped = X_droped.drop(['track_genre'], axis=1)"
      ]
    },
    {
      "cell_type": "code",
      "execution_count": null,
      "metadata": {
        "colab": {
          "base_uri": "https://localhost:8080/"
        },
        "id": "jxlMeJTYPxwl",
        "outputId": "8a171e8e-6f7d-451d-8c5a-eebfb09ec458"
      },
      "outputs": [
        {
          "output_type": "stream",
          "name": "stdout",
          "text": [
            "<class 'pandas.core.frame.DataFrame'>\n",
            "RangeIndex: 114000 entries, 0 to 113999\n",
            "Data columns (total 14 columns):\n",
            " #   Column            Non-Null Count   Dtype  \n",
            "---  ------            --------------   -----  \n",
            " 0   popularity        114000 non-null  int64  \n",
            " 1   duration_ms       114000 non-null  int64  \n",
            " 2   explicit          114000 non-null  bool   \n",
            " 3   danceability      114000 non-null  float64\n",
            " 4   key               114000 non-null  int64  \n",
            " 5   loudness          114000 non-null  float64\n",
            " 6   mode              114000 non-null  int64  \n",
            " 7   speechiness       114000 non-null  float64\n",
            " 8   acousticness      114000 non-null  float64\n",
            " 9   instrumentalness  114000 non-null  float64\n",
            " 10  liveness          114000 non-null  float64\n",
            " 11  valence           114000 non-null  float64\n",
            " 12  tempo             114000 non-null  float64\n",
            " 13  time_signature    114000 non-null  int64  \n",
            "dtypes: bool(1), float64(8), int64(5)\n",
            "memory usage: 11.4 MB\n"
          ]
        }
      ],
      "source": [
        "X_droped.info()"
      ]
    },
    {
      "cell_type": "code",
      "execution_count": null,
      "metadata": {
        "colab": {
          "base_uri": "https://localhost:8080/"
        },
        "id": "YHtOdtGKL3Hw",
        "outputId": "c497765d-a3c5-411a-a149-ed067f22bf72"
      },
      "outputs": [
        {
          "output_type": "stream",
          "name": "stdout",
          "text": [
            "<class 'pandas.core.frame.DataFrame'>\n",
            "RangeIndex: 114000 entries, 0 to 113999\n",
            "Columns: 129 entries, popularity to album_cnt\n",
            "dtypes: bool(115), float64(9), int64(5)\n",
            "memory usage: 24.7 MB\n"
          ]
        }
      ],
      "source": [
        "X_encoded.info()"
      ]
    },
    {
      "cell_type": "markdown",
      "metadata": {
        "id": "7dVwP45Gy-Qr"
      },
      "source": [
        "#### 1. [0.25 points] Split the data into train and test with a ratio of 80:20 and random_state=42."
      ]
    },
    {
      "cell_type": "code",
      "execution_count": null,
      "metadata": {
        "id": "U7z8TIh5y-Qs"
      },
      "outputs": [],
      "source": [
        "# your code here\n",
        "#╰( ͡° ͜ʖ ͡° )つ──☆*:・ﾟ\n",
        "X_train, X_test, y_train, y_test = train_test_split(X_droped, y, test_size=0.2, random_state=42)"
      ]
    },
    {
      "cell_type": "markdown",
      "metadata": {
        "id": "7daIQRfKy-Qs"
      },
      "source": [
        "#### 2. [0.75 points] Train models on train, excluding categorical features, using the StatsModels library and apply it to test; use $RMSE$ and $R^2$ as quality metrics. Try also applying linear regression implementations from sklearn:\n",
        "\n",
        "* [`LinearRegression`](http://scikit-learn.org/stable/modules/generated/sklearn.linear_model.LinearRegression.html);\n",
        "* [`Ridge`](http://scikit-learn.org/stable/modules/generated/sklearn.linear_model.Ridge.html) with $\\alpha = 0.03$;\n",
        "* [`Lasso`](http://scikit-learn.org/stable/modules/generated/sklearn.linear_model.Lasso.html) with $\\alpha = 0.05$\n",
        "\n",
        "Don't forget to scale your data using StandardScaler before training your models!"
      ]
    },
    {
      "cell_type": "code",
      "execution_count": null,
      "metadata": {
        "id": "Bkbr5iFCy-Qs"
      },
      "outputs": [],
      "source": [
        "# your code here\n",
        "#╰( ͡° ͜ʖ ͡° )つ──☆*:・ﾟ\n",
        "scaler = StandardScaler()\n",
        "X_train_scaled = scaler.fit_transform(X_train)\n",
        "X_test_scaled = scaler.transform(X_test)"
      ]
    },
    {
      "cell_type": "code",
      "execution_count": null,
      "metadata": {
        "id": "852Mgy0FHZkV"
      },
      "outputs": [],
      "source": [
        "# 1. Модель StatsModels\n",
        "def get_StatsModels(X_train_scaled, X_test_scaled, y_train, y_test):\n",
        "  X_train_sm = sm.add_constant(X_train_scaled)\n",
        "  X_test_sm = sm.add_constant(X_test_scaled)\n",
        "  model_sm = sm.OLS(y_train, X_train_sm).fit()\n",
        "  y_pred_sm = model_sm.predict(X_test_sm)\n",
        "\n",
        "  rmse_sm = np.sqrt(mean_squared_error(y_test, y_pred_sm))\n",
        "  r2_sm = r2_score(y_test, y_pred_sm)\n",
        "  print(\"StatsModels OLS Regression:\")\n",
        "  print(f\"RMSE: {rmse_sm:.6f}\")\n",
        "  print(f\"R²: {r2_sm:.6f}\")\n",
        "  return model_sm\n",
        "\n",
        "# 2. Linear Regression (sklearn)\n",
        "def get_LinearRegression(X_train_scaled, X_test_scaled, y_train, y_test):\n",
        "  linear_model = LinearRegression()\n",
        "  linear_model.fit(X_train_scaled, y_train)\n",
        "  y_pred_lr = linear_model.predict(X_test_scaled)\n",
        "\n",
        "  rmse_lr = np.sqrt(mean_squared_error(y_test, y_pred_lr))\n",
        "  r2_lr = r2_score(y_test, y_pred_lr)\n",
        "  print(\"Linear Regression (sklearn):\")\n",
        "  print(f\"RMSE: {rmse_lr:.6f}\")\n",
        "  print(f\"R²: {r2_lr:.6f}\")\n",
        "  return linear_model\n",
        "\n",
        "# 3. Ridge Regression (α=0.03)\n",
        "def get_Ridge(X_train_scaled, X_test_scaled, y_train, y_test):\n",
        "  ridge_model = Ridge(alpha=0.03)\n",
        "  ridge_model.fit(X_train_scaled, y_train)\n",
        "  y_pred_ridge = ridge_model.predict(X_test_scaled)\n",
        "\n",
        "  rmse_ridge = np.sqrt(mean_squared_error(y_test, y_pred_ridge))\n",
        "  r2_ridge = r2_score(y_test, y_pred_ridge)\n",
        "  print(\"Ridge Regression (α=0.03):\")\n",
        "  print(f\"RMSE: {rmse_ridge:.6f}\")\n",
        "  print(f\"R²: {r2_ridge:.6f}\")\n",
        "  return ridge_model\n",
        "\n",
        "# 4. Lasso Regression (α=0.05)\n",
        "def get_Lasso(X_train_scaled, X_test_scaled, y_train, y_test):\n",
        "  lasso_model = Lasso(alpha=0.05)\n",
        "  lasso_model.fit(X_train_scaled, y_train)\n",
        "  y_pred_lasso = lasso_model.predict(X_test_scaled)\n",
        "\n",
        "  rmse_lasso = np.sqrt(mean_squared_error(y_test, y_pred_lasso))\n",
        "  r2_lasso = r2_score(y_test, y_pred_lasso)\n",
        "  print(\"Lasso Regression (α=0.05):\")\n",
        "  print(f\"RMSE: {rmse_lasso:.6f}\")\n",
        "  print(f\"R²: {r2_lasso:.6f}\")\n",
        "  return lasso_model"
      ]
    },
    {
      "cell_type": "code",
      "execution_count": null,
      "metadata": {
        "colab": {
          "base_uri": "https://localhost:8080/"
        },
        "collapsed": true,
        "id": "Vsh4WpTlImst",
        "outputId": "ce9e6955-bfb4-4e64-9813-55b6c7f0453f"
      },
      "outputs": [
        {
          "output_type": "stream",
          "name": "stdout",
          "text": [
            "StatsModels OLS Regression:\n",
            "RMSE: 0.121711\n",
            "R²: 0.764628\n",
            "Linear Regression (sklearn):\n",
            "RMSE: 0.121711\n",
            "R²: 0.764628\n",
            "Ridge Regression (α=0.03):\n",
            "RMSE: 0.121711\n",
            "R²: 0.764628\n",
            "Lasso Regression (α=0.05):\n",
            "RMSE: 0.147984\n",
            "R²: 0.652044\n",
            "\n",
            "\n"
          ]
        }
      ],
      "source": [
        "model_sm1 = get_StatsModels(X_train_scaled, X_test_scaled, y_train, y_test)\n",
        "get_LinearRegression(X_train_scaled, X_test_scaled, y_train, y_test)\n",
        "get_Ridge(X_train_scaled, X_test_scaled, y_train, y_test)\n",
        "get_Lasso(X_train_scaled, X_test_scaled, y_train, y_test)\n",
        "print('\\n')"
      ]
    },
    {
      "cell_type": "markdown",
      "metadata": {
        "id": "RWWvUdxROgHP"
      },
      "source": [
        "#### 3. [0.25 points] Repeat the steps from the previous point, adding categorical features. Comment on the changes in the quality metrics values"
      ]
    },
    {
      "cell_type": "code",
      "execution_count": null,
      "metadata": {
        "id": "-Opop8b6OgHQ"
      },
      "outputs": [],
      "source": [
        "# your code here\n",
        "#╰( ͡° ͜ʖ ͡° )つ──☆*:・ﾟ\n",
        "#╰( ͡° ͜ʖ ͡° )つ──☆*:・ﾟ\n",
        "X_train, X_test, y_train, y_test = train_test_split(X_encoded, y, test_size=0.2, random_state=42)\n",
        "\n",
        "scaler = StandardScaler()\n",
        "X_train_scaled = scaler.fit_transform(X_train)\n",
        "X_test_scaled = scaler.transform(X_test)"
      ]
    },
    {
      "cell_type": "code",
      "execution_count": null,
      "metadata": {
        "colab": {
          "base_uri": "https://localhost:8080/"
        },
        "collapsed": true,
        "id": "-3IIw7VaMRbe",
        "outputId": "bf336e2f-78e2-4099-a481-8e247d7d3f8f"
      },
      "outputs": [
        {
          "output_type": "stream",
          "name": "stdout",
          "text": [
            "StatsModels OLS Regression:\n",
            "RMSE: 0.112799\n",
            "R²: 0.797835\n",
            "Linear Regression (sklearn):\n",
            "RMSE: 0.112805\n",
            "R²: 0.797814\n",
            "Ridge Regression (α=0.03):\n",
            "RMSE: 0.112799\n",
            "R²: 0.797835\n",
            "Lasso Regression (α=0.05):\n",
            "RMSE: 0.147984\n",
            "R²: 0.652044\n",
            "\n",
            "\n"
          ]
        }
      ],
      "source": [
        "model_sm2 = get_StatsModels(X_train_scaled, X_test_scaled, y_train, y_test)\n",
        "get_LinearRegression(X_train_scaled, X_test_scaled, y_train, y_test)\n",
        "get_Ridge(X_train_scaled, X_test_scaled, y_train, y_test)\n",
        "get_Lasso(X_train_scaled, X_test_scaled, y_train, y_test)\n",
        "print('\\n')"
      ]
    },
    {
      "cell_type": "markdown",
      "source": [
        "RMSE уменьшилось, а $R^2$ увеличилось, что говорит о том, что модель стала точнее."
      ],
      "metadata": {
        "id": "UZSu8JzWTDd5"
      }
    },
    {
      "cell_type": "markdown",
      "metadata": {
        "id": "69JOftKRy-Qt"
      },
      "source": [
        "#### 4. [1 point] Examine the parameter values ​​of the models obtained from StatsModels and check which weights and in which models turned out to be zero. Comment on the significance of the coefficients, the overall significance of the models and other factors from the resulting tables"
      ]
    },
    {
      "cell_type": "code",
      "execution_count": null,
      "metadata": {
        "colab": {
          "base_uri": "https://localhost:8080/"
        },
        "collapsed": true,
        "id": "Np1biYQ7y-Qt",
        "outputId": "5882407f-12e4-443b-d33e-338f94920a40"
      },
      "outputs": [
        {
          "output_type": "stream",
          "name": "stdout",
          "text": [
            "StatsModels1 OLS Regression Summary:\n",
            "                            OLS Regression Results                            \n",
            "==============================================================================\n",
            "Dep. Variable:                 energy   R-squared:                       0.766\n",
            "Model:                            OLS   Adj. R-squared:                  0.766\n",
            "Method:                 Least Squares   F-statistic:                 2.133e+04\n",
            "Date:                Wed, 23 Oct 2024   Prob (F-statistic):               0.00\n",
            "Time:                        18:21:26   Log-Likelihood:                 62649.\n",
            "No. Observations:               91200   AIC:                        -1.253e+05\n",
            "Df Residuals:                   91185   BIC:                        -1.251e+05\n",
            "Df Model:                          14                                         \n",
            "Covariance Type:            nonrobust                                         \n",
            "==============================================================================\n",
            "                 coef    std err          t      P>|t|      [0.025      0.975]\n",
            "------------------------------------------------------------------------------\n",
            "const          0.6409      0.000   1589.755      0.000       0.640       0.642\n",
            "x1            -0.0022      0.000     -5.293      0.000      -0.003      -0.001\n",
            "x2             0.0047      0.000     11.287      0.000       0.004       0.005\n",
            "x3            -0.0019      0.000     -4.400      0.000      -0.003      -0.001\n",
            "x4            -0.0322      0.000    -65.676      0.000      -0.033      -0.031\n",
            "x5             0.0015      0.000      3.743      0.000       0.001       0.002\n",
            "x6             0.1351      0.001    233.118      0.000       0.134       0.136\n",
            "x7            -0.0040      0.000     -9.644      0.000      -0.005      -0.003\n",
            "x8             0.0281      0.000     63.994      0.000       0.027       0.029\n",
            "x9            -0.1056      0.001   -202.382      0.000      -0.107      -0.105\n",
            "x10            0.0351      0.000     73.537      0.000       0.034       0.036\n",
            "x11            0.0262      0.000     62.117      0.000       0.025       0.027\n",
            "x12            0.0405      0.000     82.486      0.000       0.040       0.041\n",
            "x13            0.0076      0.000     17.972      0.000       0.007       0.008\n",
            "x14            0.0073      0.000     17.397      0.000       0.006       0.008\n",
            "==============================================================================\n",
            "Omnibus:                     4848.273   Durbin-Watson:                   2.001\n",
            "Prob(Omnibus):                  0.000   Jarque-Bera (JB):            18743.560\n",
            "Skew:                           0.095   Prob(JB):                         0.00\n",
            "Kurtosis:                       5.213   Cond. No.                         2.79\n",
            "==============================================================================\n",
            "\n",
            "Notes:\n",
            "[1] Standard Errors assume that the covariance matrix of the errors is correctly specified.\n",
            "\n",
            "StatsModels1 OLS Regression Coefficients:\n",
            "const    0.640909\n",
            "x1      -0.002161\n",
            "x2       0.004678\n",
            "x3      -0.001897\n",
            "x4      -0.032195\n",
            "x5       0.001525\n",
            "x6       0.135098\n",
            "x7      -0.003966\n",
            "x8       0.028073\n",
            "x9      -0.105580\n",
            "x10      0.035085\n",
            "x11      0.026209\n",
            "x12      0.040514\n",
            "x13      0.007555\n",
            "x14      0.007281\n",
            "dtype: float64\n"
          ]
        }
      ],
      "source": [
        "# your code here\n",
        "#╰( ͡° ͜ʖ ͡° )つ──☆*:・ﾟ\n",
        "\n",
        "print(\"StatsModels1 OLS Regression Summary:\")\n",
        "print(model_sm1.summary())\n",
        "\n",
        "# Получение весов модели\n",
        "print(\"\\nStatsModels1 OLS Regression Coefficients:\")\n",
        "print(model_sm1.params)"
      ]
    },
    {
      "cell_type": "markdown",
      "source": [
        "Самый маленький по модулю коэффицент у х5 фичи. Это duration_ms, т.е. длительность песни меньше всего влияет на энергию"
      ],
      "metadata": {
        "id": "wZqOzrhZKTE5"
      }
    },
    {
      "cell_type": "code",
      "execution_count": null,
      "metadata": {
        "colab": {
          "base_uri": "https://localhost:8080/"
        },
        "collapsed": true,
        "id": "pyMjQoC0N3u_",
        "outputId": "de8a6a1f-3138-4b49-e309-be3b4316021e"
      },
      "outputs": [
        {
          "output_type": "stream",
          "name": "stdout",
          "text": [
            "StatsModels2 OLS Regression Summary:\n",
            "                            OLS Regression Results                            \n",
            "==============================================================================\n",
            "Dep. Variable:                 energy   R-squared:                       0.802\n",
            "Model:                            OLS   Adj. R-squared:                  0.801\n",
            "Method:                 Least Squares   F-statistic:                     2873.\n",
            "Date:                Wed, 23 Oct 2024   Prob (F-statistic):               0.00\n",
            "Time:                        18:21:26   Log-Likelihood:                 70143.\n",
            "No. Observations:               91200   AIC:                        -1.400e+05\n",
            "Df Residuals:                   91071   BIC:                        -1.388e+05\n",
            "Df Model:                         128                                         \n",
            "Covariance Type:            nonrobust                                         \n",
            "==============================================================================\n",
            "                 coef    std err          t      P>|t|      [0.025      0.975]\n",
            "------------------------------------------------------------------------------\n",
            "const          0.6409      0.000   1724.825      0.000       0.640       0.642\n",
            "x1            -0.0032      0.001     -6.293      0.000      -0.004      -0.002\n",
            "x2             0.0014      0.000      3.401      0.001       0.001       0.002\n",
            "x3            -0.0028      0.000     -6.836      0.000      -0.004      -0.002\n",
            "x4            -0.0197      0.001    -35.698      0.000      -0.021      -0.019\n",
            "x5             0.0012      0.000      3.271      0.001       0.000       0.002\n",
            "x6             0.1360      0.001    229.826      0.000       0.135       0.137\n",
            "x7            -0.0027      0.000     -7.022      0.000      -0.003      -0.002\n",
            "x8             0.0229      0.001     44.460      0.000       0.022       0.024\n",
            "x9            -0.0824      0.001   -141.340      0.000      -0.084      -0.081\n",
            "x10            0.0245      0.001     45.754      0.000       0.023       0.026\n",
            "x11            0.0206      0.000     50.076      0.000       0.020       0.021\n",
            "x12            0.0404      0.001     80.162      0.000       0.039       0.041\n",
            "x13            0.0071      0.000     17.724      0.000       0.006       0.008\n",
            "x14            0.0089      0.000     22.969      0.000       0.008       0.010\n",
            "x15           -0.0071      0.000    -19.043      0.000      -0.008      -0.006\n",
            "x16            0.0005      0.000      1.346      0.178      -0.000       0.001\n",
            "x17            0.0010      0.000      2.778      0.005       0.000       0.002\n",
            "x18           -0.0015      0.000     -3.974      0.000      -0.002      -0.001\n",
            "x19         2.794e-05      0.000      0.072      0.943      -0.001       0.001\n",
            "x20            0.0008      0.000      2.129      0.033    6.24e-05       0.002\n",
            "x21            0.0089      0.000     23.258      0.000       0.008       0.010\n",
            "x22           -0.0024      0.000     -6.436      0.000      -0.003      -0.002\n",
            "x23           -0.0029      0.000     -7.911      0.000      -0.004      -0.002\n",
            "x24           -0.0031      0.000     -8.437      0.000      -0.004      -0.002\n",
            "x25            0.0061      0.000     16.094      0.000       0.005       0.007\n",
            "x26           -0.0031      0.000     -8.370      0.000      -0.004      -0.002\n",
            "x27           -0.0050      0.000    -13.487      0.000      -0.006      -0.004\n",
            "x28            0.0027      0.000      7.113      0.000       0.002       0.004\n",
            "x29           -0.0072      0.000    -19.167      0.000      -0.008      -0.006\n",
            "x30           -0.0073      0.000    -19.486      0.000      -0.008      -0.007\n",
            "x31           -0.0006      0.000     -1.632      0.103      -0.001       0.000\n",
            "x32            0.0015      0.000      4.030      0.000       0.001       0.002\n",
            "x33            0.0056      0.000     11.490      0.000       0.005       0.007\n",
            "x34           -0.0051      0.000    -13.827      0.000      -0.006      -0.004\n",
            "x35           -0.0038      0.000    -10.191      0.000      -0.005      -0.003\n",
            "x36           -0.0043      0.000    -11.558      0.000      -0.005      -0.004\n",
            "x37            0.0122      0.000     32.100      0.000       0.011       0.013\n",
            "x38            0.0032      0.000      8.646      0.000       0.002       0.004\n",
            "x39            0.0057      0.000     14.463      0.000       0.005       0.006\n",
            "x40            0.0025      0.000      6.781      0.000       0.002       0.003\n",
            "x41           -0.0049      0.000    -12.868      0.000      -0.006      -0.004\n",
            "x42            0.0039      0.000     10.403      0.000       0.003       0.005\n",
            "x43           -0.0016      0.000     -4.319      0.000      -0.002      -0.001\n",
            "x44            0.0009      0.000      2.498      0.012       0.000       0.002\n",
            "x45            0.0009      0.000      2.419      0.016       0.000       0.002\n",
            "x46           -0.0029      0.000     -7.744      0.000      -0.004      -0.002\n",
            "x47            0.0004      0.000      1.055      0.291      -0.000       0.001\n",
            "x48           -0.0020      0.000     -5.257      0.000      -0.003      -0.001\n",
            "x49           -0.0016      0.000     -4.314      0.000      -0.002      -0.001\n",
            "x50            0.0053      0.000     14.042      0.000       0.005       0.006\n",
            "x51           -0.0003      0.000     -0.681      0.496      -0.001       0.000\n",
            "x52           -0.0062      0.000    -16.564      0.000      -0.007      -0.005\n",
            "x53            0.0004      0.000      1.040      0.298      -0.000       0.001\n",
            "x54           -0.0011      0.000     -2.904      0.004      -0.002      -0.000\n",
            "x55           -0.0052      0.000    -13.944      0.000      -0.006      -0.004\n",
            "x56            0.0023      0.000      6.112      0.000       0.002       0.003\n",
            "x57            0.0102      0.000     26.030      0.000       0.009       0.011\n",
            "x58            0.0037      0.000      9.968      0.000       0.003       0.004\n",
            "x59            0.0039      0.000     10.309      0.000       0.003       0.005\n",
            "x60           -0.0048      0.000    -12.741      0.000      -0.006      -0.004\n",
            "x61            0.0107      0.000     28.420      0.000       0.010       0.011\n",
            "x62            0.0051      0.000     13.799      0.000       0.004       0.006\n",
            "x63            0.0054      0.000     14.359      0.000       0.005       0.006\n",
            "x64            0.0083      0.000     22.139      0.000       0.008       0.009\n",
            "x65            0.0079      0.000     21.034      0.000       0.007       0.009\n",
            "x66           -0.0036      0.000     -9.521      0.000      -0.004      -0.003\n",
            "x67           -0.0075      0.000    -19.944      0.000      -0.008      -0.007\n",
            "x68            0.0003      0.000      0.697      0.486      -0.000       0.001\n",
            "x69            0.0026      0.000      6.711      0.000       0.002       0.003\n",
            "x70            0.0008      0.000      2.186      0.029    8.38e-05       0.002\n",
            "x71           -0.0041      0.000    -11.126      0.000      -0.005      -0.003\n",
            "x72           -0.0042      0.000    -11.394      0.000      -0.005      -0.003\n",
            "x73            0.0080      0.000     21.598      0.000       0.007       0.009\n",
            "x74            0.0041      0.000     10.529      0.000       0.003       0.005\n",
            "x75           -0.0032      0.000     -8.513      0.000      -0.004      -0.002\n",
            "x76            0.0046      0.000     12.440      0.000       0.004       0.005\n",
            "x77           -0.0019      0.000     -5.090      0.000      -0.003      -0.001\n",
            "x78            0.0008      0.000      2.113      0.035    5.67e-05       0.002\n",
            "x79           -0.0086      0.000    -22.818      0.000      -0.009      -0.008\n",
            "x80           -0.0004      0.000     -1.060      0.289      -0.001       0.000\n",
            "x81           -0.0055      0.000    -14.479      0.000      -0.006      -0.005\n",
            "x82           -0.0025      0.000     -6.547      0.000      -0.003      -0.002\n",
            "x83           -0.0019      0.000     -5.003      0.000      -0.003      -0.001\n",
            "x84           -0.0014      0.000     -3.654      0.000      -0.002      -0.001\n",
            "x85           -0.0058      0.000    -15.603      0.000      -0.007      -0.005\n",
            "x86            0.0058      0.000     15.385      0.000       0.005       0.007\n",
            "x87            0.0095      0.000     25.324      0.000       0.009       0.010\n",
            "x88            0.0025      0.000      6.288      0.000       0.002       0.003\n",
            "x89           -0.0018      0.000     -4.979      0.000      -0.003      -0.001\n",
            "x90           -0.0030      0.000     -7.580      0.000      -0.004      -0.002\n",
            "x91           -0.0033      0.000     -8.638      0.000      -0.004      -0.003\n",
            "x92            0.0045      0.000     11.914      0.000       0.004       0.005\n",
            "x93            0.0044      0.000     11.668      0.000       0.004       0.005\n",
            "x94            0.0016      0.000      4.113      0.000       0.001       0.002\n",
            "x95           -0.0041      0.000    -10.947      0.000      -0.005      -0.003\n",
            "x96            0.0004      0.000      1.137      0.256      -0.000       0.001\n",
            "x97            0.0034      0.000      9.193      0.000       0.003       0.004\n",
            "x98            0.0053      0.000     14.181      0.000       0.005       0.006\n",
            "x99           -0.0035      0.000     -9.449      0.000      -0.004      -0.003\n",
            "x100           0.0035      0.000      9.298      0.000       0.003       0.004\n",
            "x101           0.0035      0.000      9.443      0.000       0.003       0.004\n",
            "x102          -0.0023      0.000     -6.271      0.000      -0.003      -0.002\n",
            "x103          -0.0028      0.000     -7.283      0.000      -0.004      -0.002\n",
            "x104          -0.0024      0.000     -6.213      0.000      -0.003      -0.002\n",
            "x105          -0.0023      0.000     -6.218      0.000      -0.003      -0.002\n",
            "x106          -0.0035      0.000     -9.497      0.000      -0.004      -0.003\n",
            "x107           0.0021      0.000      5.718      0.000       0.001       0.003\n",
            "x108          -0.0064      0.000    -16.401      0.000      -0.007      -0.006\n",
            "x109          -0.0054      0.000    -14.369      0.000      -0.006      -0.005\n",
            "x110           0.0058      0.000     15.427      0.000       0.005       0.007\n",
            "x111           0.0035      0.000      9.242      0.000       0.003       0.004\n",
            "x112          -0.0004      0.000     -0.936      0.349      -0.001       0.000\n",
            "x113          -0.0080      0.000    -21.347      0.000      -0.009      -0.007\n",
            "x114          -0.0066      0.000    -17.648      0.000      -0.007      -0.006\n",
            "x115           0.0021      0.000      5.679      0.000       0.001       0.003\n",
            "x116           0.0194      0.000     46.771      0.000       0.019       0.020\n",
            "x117          -0.0065      0.000    -17.358      0.000      -0.007      -0.006\n",
            "x118          -0.0064      0.000    -17.362      0.000      -0.007      -0.006\n",
            "x119           0.0009      0.000      2.519      0.012       0.000       0.002\n",
            "x120          -0.0123      0.000    -31.756      0.000      -0.013      -0.012\n",
            "x121          -0.0016      0.000     -4.313      0.000      -0.002      -0.001\n",
            "x122           0.0034      0.000      9.297      0.000       0.003       0.004\n",
            "x123          -0.0099      0.000    -26.018      0.000      -0.011      -0.009\n",
            "x124           0.0053      0.000     14.039      0.000       0.005       0.006\n",
            "x125           0.0080      0.000     21.221      0.000       0.007       0.009\n",
            "x126          -0.0025      0.000     -6.704      0.000      -0.003      -0.002\n",
            "x127          -0.0013      0.000     -3.613      0.000      -0.002      -0.001\n",
            "x128          -0.0050      0.000    -13.456      0.000      -0.006      -0.004\n",
            "x129           0.0001      0.001      0.236      0.813      -0.001       0.001\n",
            "==============================================================================\n",
            "Omnibus:                     5207.802   Durbin-Watson:                   2.002\n",
            "Prob(Omnibus):                  0.000   Jarque-Bera (JB):            21057.275\n",
            "Skew:                          -0.115   Prob(JB):                         0.00\n",
            "Kurtosis:                       5.343   Cond. No.                     1.75e+15\n",
            "==============================================================================\n",
            "\n",
            "Notes:\n",
            "[1] Standard Errors assume that the covariance matrix of the errors is correctly specified.\n",
            "[2] The smallest eigenvalue is 9.05e-26. This might indicate that there are\n",
            "strong multicollinearity problems or that the design matrix is singular.\n",
            "\n",
            "StatsModels2 OLS Regression Coefficients:\n",
            "const    0.640909\n",
            "x1      -0.003218\n",
            "x2       0.001399\n",
            "x3      -0.002840\n",
            "x4      -0.019672\n",
            "           ...   \n",
            "x125     0.007983\n",
            "x126    -0.002491\n",
            "x127    -0.001339\n",
            "x128    -0.005023\n",
            "x129     0.000123\n",
            "Length: 130, dtype: float64\n",
            "track_genre_ambient\n",
            "album_cnt\n"
          ]
        }
      ],
      "source": [
        "print(\"StatsModels2 OLS Regression Summary:\")\n",
        "print(model_sm2.summary())\n",
        "\n",
        "# Получение весов модели\n",
        "print(\"\\nStatsModels2 OLS Regression Coefficients:\")\n",
        "print(model_sm2.params)\n",
        "print(X_encoded.columns[18])\n",
        "print(X_encoded.columns[128])"
      ]
    },
    {
      "cell_type": "markdown",
      "source": [
        "Самые маленькие значения у track_genre_ambient и album_cnt. Т.е. принадлежность к жанру ambient и количесво песен в альбме слабо влияют на энергию песни."
      ],
      "metadata": {
        "id": "SrraZoJ0KrRz"
      }
    },
    {
      "cell_type": "markdown",
      "metadata": {
        "id": "yLcvGlUZy-Qt"
      },
      "source": [
        "#### 5. [1 point] Implement one of the feature selection algorithms (Elimination by P-value, Forward elimination, Backward elimination), draw conclusions."
      ]
    },
    {
      "cell_type": "code",
      "execution_count": null,
      "metadata": {
        "id": "TnrbRbkwy-Qt"
      },
      "outputs": [],
      "source": [
        "# your code here\n",
        "#╰( ͡° ͜ʖ ͡° )つ──☆*:・ﾟ\n",
        "\n",
        "def backward_elimination(X_train_scaled: pd.DataFrame, y_train: list, X_test: pd.DataFrame,  sig_level=0.05):\n",
        "\n",
        "    while True:\n",
        "\n",
        "        model = sm.OLS(y_train, X_train_scaled).fit()\n",
        "        p_values = model.pvalues\n",
        "        max_p_value = p_values.max()\n",
        "        #print(np.sort(p_values))\n",
        "        #print(\"\\n------------------------------------------------------------------\\n\")\n",
        "        if max_p_value > sig_level:\n",
        "            excluded_feature = np.argmax(p_values)\n",
        "            print(f\"Исключаем {excluded_feature} с p-значением {max_p_value}\")\n",
        "            id = int(excluded_feature)\n",
        "            X_train_scaled.drop(X_train_scaled.columns[id], axis=1, inplace=True)\n",
        "            X_test.drop(X_test.columns[id], axis=1, inplace=True)\n",
        "        else:\n",
        "            break\n",
        "    return X_test, model"
      ]
    },
    {
      "cell_type": "code",
      "source": [
        "X_train_scaled_sm = sm.add_constant(X_train_scaled)\n",
        "X_test_sm = sm.add_constant(X_test_scaled)\n",
        "X_test_sm, model_pval = backward_elimination(pd.DataFrame(X_train_scaled_sm), list(y_train), pd.DataFrame(X_test_sm))"
      ],
      "metadata": {
        "colab": {
          "base_uri": "https://localhost:8080/"
        },
        "id": "ULBLfFdpg5Co",
        "outputId": "164978a1-2abe-4a92-e766-7887e6fc2f54"
      },
      "execution_count": null,
      "outputs": [
        {
          "output_type": "stream",
          "name": "stdout",
          "text": [
            "Исключаем 19 с p-значением 0.9426266247240349\n",
            "Исключаем 128 с p-значением 0.8130880685362579\n",
            "Исключаем 67 с p-значением 0.6595457923668586\n",
            "Исключаем 52 с p-значением 0.6172794144342924\n",
            "Исключаем 46 с p-значением 0.7132682146681758\n",
            "Исключаем 92 с p-значением 0.7075311767135715\n",
            "Исключаем 16 с p-значением 0.6409564006302622\n",
            "Исключаем 73 с p-значением 0.2741774299168226\n",
            "Исключаем 18 с p-значением 0.32493149049184733\n",
            "Исключаем 64 с p-значением 0.3540942875841331\n",
            "Исключаем 42 с p-значением 0.29582705057427355\n",
            "Исключаем 109 с p-значением 0.31643531812491826\n",
            "Исключаем 41 с p-значением 0.34918459093925736\n",
            "Исключаем 16 с p-значением 0.2532028835995191\n"
          ]
        }
      ]
    },
    {
      "cell_type": "code",
      "source": [
        "y_pred_sm = model_pval.predict(X_test_sm)\n",
        "\n",
        "rmse_sm = np.sqrt(mean_squared_error(y_test, y_pred_sm))\n",
        "r2_sm = r2_score(y_test, y_pred_sm)\n",
        "print(\"StatsModels OLS Regression:\")\n",
        "print(f\"RMSE: {rmse_sm:.6f}\")\n",
        "print(f\"R²: {r2_sm:.6f}\")"
      ],
      "metadata": {
        "colab": {
          "base_uri": "https://localhost:8080/"
        },
        "id": "atSo0TbNYXIy",
        "outputId": "2a41036e-6b9a-4685-c01a-f69dd05df185"
      },
      "execution_count": null,
      "outputs": [
        {
          "output_type": "stream",
          "name": "stdout",
          "text": [
            "StatsModels OLS Regression:\n",
            "RMSE: 0.112800\n",
            "R²: 0.797831\n"
          ]
        }
      ]
    },
    {
      "cell_type": "markdown",
      "source": [
        "Значения почти не изменились, так что это мало повлияло на результат"
      ],
      "metadata": {
        "id": "RMbKedbRTr0b"
      }
    },
    {
      "cell_type": "markdown",
      "metadata": {
        "id": "df0eQLdNy-Qt"
      },
      "source": [
        "#### 6. [1 point] Find the best (RMSE) $\\alpha$ for Lasso regression using 4-fold cross-validation. You should choose a value from the logarithmic range $[10^{-4}, 10^{3}]$."
      ]
    },
    {
      "cell_type": "code",
      "execution_count": null,
      "metadata": {
        "id": "JPoT3YHqy-Qt",
        "colab": {
          "base_uri": "https://localhost:8080/"
        },
        "outputId": "d1acaf54-15df-42b0-fce0-a4c06fd49861"
      },
      "outputs": [
        {
          "output_type": "stream",
          "name": "stdout",
          "text": [
            "Оптимальное значение alpha: 0.0001\n",
            "RMSE на тестовых данных: 0.1127901574424143\n"
          ]
        }
      ],
      "source": [
        "# your code here\n",
        "#╰( ͡° ͜ʖ ͡° )つ──☆*:・ﾟ\n",
        "from sklearn.linear_model import LassoCV\n",
        "\n",
        "X_train, X_test, y_train, y_test = train_test_split(X_encoded, y, test_size=0.2, random_state=42)\n",
        "scaler = StandardScaler()\n",
        "X_train_scaled = scaler.fit_transform(X_train)\n",
        "X_test_scaled = scaler.transform(X_test)\n",
        "\n",
        "alphas = np.logspace(-4, 3, 50)\n",
        "\n",
        "lasso_cv = LassoCV(alphas=alphas, cv=4, random_state=42)\n",
        "\n",
        "lasso_cv.fit(X_train_scaled, y_train)\n",
        "\n",
        "best_alpha = lasso_cv.alpha_\n",
        "print(f\"Оптимальное значение alpha: {best_alpha}\")\n",
        "\n",
        "y_pred = lasso_cv.predict(X_test_scaled)\n",
        "rmse = np.sqrt(mean_squared_error(y_test, y_pred))\n",
        "print(f\"RMSE на тестовых данных: {rmse}\")"
      ]
    },
    {
      "cell_type": "markdown",
      "metadata": {
        "id": "Q1PKinJUy-Qt"
      },
      "source": [
        "## Gradient Descent\n",
        "\n",
        "#### 7. [3.5 points] Implement Ridge regression for MSE loss trained using gradient descent.\n",
        "\n",
        "All computations must be vectorized, and Python loops can only be used for gradient descent iterations. The stopping criteria must be (simultaneously):\n",
        "\n",
        "* checking the absolute norm of the difference in weights on two adjacent iterations (e.g., less than some small number of the order of $10^{-6}$, specified by the `tolerance` parameter);\n",
        "\n",
        "* reaching the maximum number of iterations (e.g., 10000, specified by the `max_iter` parameter).\n",
        "\n",
        "You need to do:\n",
        "\n",
        "* Full gradient descent:\n",
        "\n",
        "$$\n",
        "w_{k + 1} = w_{k} - \\eta_{k} \\nabla_{w} Q(w_{k}).\n",
        "$$\n",
        "\n",
        "* Stochastic Gradient Descent:\n",
        "\n",
        "$$\n",
        "w_{k + 1} = w_{k} - \\eta_{k} \\nabla_{w} q_{i_{k}}(w_{k}).\n",
        "$$\n",
        "\n",
        "$\\nabla_{w} q_{i_{k}}(w_{k}) \\, $ is an estimate of the gradient over a set of objects chosen at random.\n",
        "\n",
        "* Moment of method:\n",
        "\n",
        "$$\n",
        "h_0 = 0, \\\\\n",
        "h_{k + 1} = \\alpha h_{k} + \\eta_k \\nabla_{w} Q(w_{k}), \\\\\n",
        "w_{k + 1} = w_{k} - h_{k + 1}.\n",
        "$$\n",
        "\n",
        "* Adagrad method:\n",
        "\n",
        "$$\n",
        "G_0 = 0, \\\\\n",
        "G_{k + 1} = G_{k} + (\\nabla_{w} Q(w_{k+1}))^2, \\\\\n",
        "w_{k + 1} = w_{k} - \\eta * \\frac{\\nabla_{w} Q(w_{k+1})}{\\sqrt{G_{k+1} + \\epsilon}}.\n",
        "$$\n",
        "\n",
        "To verify that the optimization process is actually running, we will use the `loss_history` class attribute. After calling the fit method, it should contain the loss function values ​​for all iterations starting from the first (up to the first step along the antigradient).\n",
        "\n",
        "You need to initialize the weights with a random vector from a normal distribution. Below is a template that should contain code implementing all the model variants."
      ]
    },
    {
      "cell_type": "code",
      "execution_count": null,
      "metadata": {
        "id": "oI39UzCLy-Qu"
      },
      "outputs": [],
      "source": [
        "from sklearn.base import BaseEstimator\n",
        "\n",
        "class LinReg(BaseEstimator):\n",
        "    def __init__(self, delta=1.0, gd_type='Momentum',\n",
        "                 tolerance=1e-4, max_iter=1000, w0=None, eta=1e-2, alpha=1e-3, reg_cf=1.0, epsilon=1e-8):\n",
        "        \"\"\"\n",
        "        gd_type: str\n",
        "            'GradientDescent', 'StochasticDescent', 'Momentum', 'Adagrad'\n",
        "        delta: float\n",
        "            proportion of object in a batch (for stochastic GD)\n",
        "        tolerance: float\n",
        "            for stopping gradient descent\n",
        "        max_iter: int\n",
        "            maximum number of steps in gradient descent\n",
        "        w0: np.array of shape (d)\n",
        "            init weights\n",
        "        eta: float\n",
        "            learning rate\n",
        "        alpha: float\n",
        "            momentum coefficient\n",
        "        reg_cf: float\n",
        "            regularization coefficient\n",
        "        epsilon: float\n",
        "            numerical stability\n",
        "        \"\"\"\n",
        "\n",
        "        self.delta = delta\n",
        "        self.gd_type = gd_type\n",
        "        self.tolerance = tolerance\n",
        "        self.max_iter = max_iter\n",
        "        self.w0 = w0\n",
        "        self.alpha = alpha\n",
        "        self.w = None\n",
        "        self.eta = eta\n",
        "        self.reg_cf = reg_cf\n",
        "        self.epsilon = epsilon\n",
        "        self.loss_history = None # list of loss function values at each training iteration\n",
        "\n",
        "    def fit(self, X, y):\n",
        "        \"\"\"\n",
        "        X: np.array of shape (l, d)\n",
        "        y: np.array of shape (l)\n",
        "        ---\n",
        "        output: self\n",
        "        \"\"\"\n",
        "        l, d = X.shape\n",
        "        # Initialize weights\n",
        "        self.w = np.random.randn(d) if self.w0 is None else self.w0\n",
        "        self.loss_history = []\n",
        "\n",
        "        # Initialization for different gradient descent variants\n",
        "        if self.gd_type == 'Momentum':\n",
        "            h = np.zeros(d)\n",
        "        elif self.gd_type == 'Adagrad':\n",
        "            G = np.zeros(d)\n",
        "\n",
        "        for iteration in range(self.max_iter):\n",
        "\n",
        "            if self.gd_type == 'GradientDescent':\n",
        "                gradient = self.calc_gradient(X, y)\n",
        "                self.w -= self.eta * gradient\n",
        "            elif self.gd_type == 'StochasticDescent':\n",
        "                batch_size = max(1, int(self.delta * X.shape[0]))\n",
        "                indices = np.random.choice(X.shape[0], batch_size, replace=False)\n",
        "                X_batch = X[indices]\n",
        "                y_batch = y.iloc[indices]\n",
        "                gradient = self.calc_gradient(X_batch, y_batch)\n",
        "                self.w -= self.eta * gradient\n",
        "            elif self.gd_type == 'Momentum':\n",
        "                gradient = self.calc_gradient(X, y)\n",
        "                h = self.alpha * h + self.eta * gradient\n",
        "                self.w -= h\n",
        "            elif self.gd_type == 'Adagrad':\n",
        "                gradient = self.calc_gradient(X, y)\n",
        "                G += gradient ** 2\n",
        "                self.w -= self.eta * gradient / (np.sqrt(G) + self.epsilon)\n",
        "\n",
        "            loss = self.calc_loss(X, y)\n",
        "            self.loss_history.append(loss)\n",
        "\n",
        "            # Check stopping criteria\n",
        "            if np.linalg.norm(self.w - (self.w - self.eta * gradient)) < self.tolerance:\n",
        "                break\n",
        "\n",
        "        return self\n",
        "\n",
        "    def predict(self, X):\n",
        "        if self.w is None:\n",
        "            raise Exception('Not trained yet')\n",
        "        return np.dot(X, self.w)\n",
        "\n",
        "    def calc_gradient(self, X, y):\n",
        "        \"\"\"\n",
        "        X: np.array of shape (l, d) (l can be equal to 1 if stochastic)\n",
        "        y: np.array of shape (l)\n",
        "        ---\n",
        "        output: np.array of shape (d)\n",
        "        \"\"\"\n",
        "        l, d = X.shape\n",
        "        predictions = np.dot(X, self.w)\n",
        "        errors = predictions - y\n",
        "\n",
        "        gradient = (2 / l) * (np.dot(X.T, errors) + self.reg_cf * self.w)\n",
        "        return gradient\n",
        "\n",
        "    def calc_loss(self, X, y):\n",
        "        \"\"\"\n",
        "        X: np.array of shape (l, d)\n",
        "        y: np.array of shape (l)\n",
        "        ---\n",
        "        output: float\n",
        "        \"\"\"\n",
        "        l = X.shape[0]\n",
        "        predictions = np.dot(X, self.w)\n",
        "        errors = predictions - y\n",
        "\n",
        "        loss = (1 / l) * np.sum(errors ** 2) + self.reg_cf * np.sum(self.w ** 2)\n",
        "        return loss"
      ]
    },
    {
      "cell_type": "markdown",
      "metadata": {
        "id": "1QQJEjGVy-Qu"
      },
      "source": [
        "#### 8. [1 point] Train and validate \"manual\" models on the same data, compare the quality with models from Sklearn and StatsModels. Investigate the influence of the `max_iter` and `alpha` parameters on the optimization process. Does it meet your expectations?"
      ]
    },
    {
      "cell_type": "code",
      "execution_count": null,
      "metadata": {
        "id": "rIJNcxt_y-Qu",
        "colab": {
          "base_uri": "https://localhost:8080/"
        },
        "outputId": "c9456eed-dd49-4adf-d650-7e7c63eff262"
      },
      "outputs": [
        {
          "output_type": "stream",
          "name": "stdout",
          "text": [
            "<class 'pandas.core.frame.DataFrame'>\n",
            "Index: 91200 entries, 84744 to 15795\n",
            "Data columns (total 13 columns):\n",
            " #   Column            Non-Null Count  Dtype  \n",
            "---  ------            --------------  -----  \n",
            " 0   popularity        91200 non-null  int64  \n",
            " 1   duration_ms       91200 non-null  int64  \n",
            " 2   danceability      91200 non-null  float64\n",
            " 3   key               91200 non-null  int64  \n",
            " 4   loudness          91200 non-null  float64\n",
            " 5   mode              91200 non-null  int64  \n",
            " 6   speechiness       91200 non-null  float64\n",
            " 7   acousticness      91200 non-null  float64\n",
            " 8   instrumentalness  91200 non-null  float64\n",
            " 9   liveness          91200 non-null  float64\n",
            " 10  valence           91200 non-null  float64\n",
            " 11  tempo             91200 non-null  float64\n",
            " 12  time_signature    91200 non-null  int64  \n",
            "dtypes: float64(8), int64(5)\n",
            "memory usage: 9.7 MB\n"
          ]
        }
      ],
      "source": [
        "# your code here\n",
        "#╰( ͡° ͜ʖ ͡° )つ──☆*:・ﾟ\n",
        "X_droped = X.drop(['artists'], axis=1)\n",
        "X_droped = X_droped.drop(['album_name'], axis=1)\n",
        "X_droped = X_droped.drop(['track_name'], axis=1)\n",
        "X_droped = X_droped.drop(['track_genre'], axis=1)\n",
        "X_droped = X_droped.drop(['explicit'], axis=1)\n",
        "\n",
        "X_train, X_test, y_train, y_test = train_test_split(X_droped, y, test_size=0.2, random_state=42)\n",
        "\n",
        "scaler = StandardScaler()\n",
        "X_train_scaled = scaler.fit_transform(X_train)\n",
        "X_test_scaled = scaler.transform(X_test)\n",
        "X_train.info()"
      ]
    },
    {
      "cell_type": "code",
      "source": [
        "models = {\n",
        "    'GradientDescent': LinReg(gd_type='GradientDescent', max_iter=1000, eta=1e-2, reg_cf=0.03, alpha=0.001),\n",
        "    'StochasticDescent': LinReg(gd_type='StochasticDescent', max_iter=3000, eta=1e-2, delta=0.1, reg_cf=1, alpha=0.001),\n",
        "    'Momentum': LinReg(gd_type='Momentum', max_iter=1000, eta=1e-2, alpha=0.0001, reg_cf=0.03),\n",
        "    'Adagrad': LinReg(gd_type='Adagrad', max_iter=10000, eta=1e-2, reg_cf=0.3, epsilon=1e-8, alpha=0.01)\n",
        "}"
      ],
      "metadata": {
        "id": "6kjRHQGp5kBB"
      },
      "execution_count": null,
      "outputs": []
    },
    {
      "cell_type": "code",
      "source": [
        "def try_model(name, X_train_scaled, X_test_scaled, y_train, y_test):\n",
        "  manual_model = models[name]\n",
        "  #LinReg(gd_type=name, max_iter=max_iter, eta=1e-3, reg_cf=0.01, alpha=alpha)\n",
        "  manual_model.fit(X_train_scaled, y_train)\n",
        "\n",
        "\n",
        "  y_pred = manual_model.predict(X_test_scaled)\n",
        "  rmse_sm = np.sqrt(mean_squared_error(y_test, y_pred))\n",
        "\n",
        "  print(f'{name}:')\n",
        "  print(f'Loss: {manual_model.calc_loss(X_test_scaled, y_test)}')\n",
        "  print(f\"RMSE: {rmse_sm:.6f}\")\n"
      ],
      "metadata": {
        "id": "afFqbjNYkDG4"
      },
      "execution_count": null,
      "outputs": []
    },
    {
      "cell_type": "code",
      "source": [
        "try_model('Momentum', X_train_scaled, X_test_scaled, y_train, y_test)\n",
        "try_model('Adagrad', X_train_scaled, X_test_scaled, y_train, y_test)\n",
        "try_model('GradientDescent', X_train_scaled, X_test_scaled, y_train, y_test)\n",
        "try_model('StochasticDescent', X_train_scaled, X_test_scaled, y_train, y_test)"
      ],
      "metadata": {
        "colab": {
          "base_uri": "https://localhost:8080/"
        },
        "id": "34zVcPTriGvY",
        "outputId": "16a4dab9-6481-49b2-de74-fe7bec71595f"
      },
      "execution_count": null,
      "outputs": [
        {
          "output_type": "stream",
          "name": "stdout",
          "text": [
            "Momentum:\n",
            "Loss: 0.42659829172630664\n",
            "RMSE: 0.652389\n",
            "Adagrad:\n",
            "Loss: 0.7325213596295793\n",
            "RMSE: 0.800039\n",
            "GradientDescent:\n",
            "Loss: 0.4268784055461056\n",
            "RMSE: 0.652509\n",
            "StochasticDescent:\n",
            "Loss: 0.46024343352946934\n",
            "RMSE: 0.652393\n"
          ]
        }
      ]
    },
    {
      "cell_type": "code",
      "source": [
        "models['Momentum'].max_iter = 4000\n",
        "models['Adagrad'].max_iter = 12000\n",
        "models['GradientDescent'].max_iter = 1000\n",
        "models['StochasticDescent'].max_iter = 3000\n",
        "\n",
        "try_model('Momentum', X_train_scaled, X_test_scaled, y_train, y_test)\n",
        "try_model('Adagrad', X_train_scaled, X_test_scaled, y_train, y_test)\n",
        "try_model('GradientDescent', X_train_scaled, X_test_scaled, y_train, y_test)\n",
        "try_model('StochasticDescent', X_train_scaled, X_test_scaled, y_train, y_test)\n",
        "\n",
        "models['Momentum'].max_iter = 1000\n",
        "models['Adagrad'].max_iter = 10000\n",
        "models['GradientDescent'].max_iter = 4000\n",
        "models['StochasticDescent'].max_iter = 4000"
      ],
      "metadata": {
        "colab": {
          "base_uri": "https://localhost:8080/"
        },
        "id": "A6ERQMzTvhYa",
        "outputId": "26e5dc74-970f-41bd-d237-9b375ad2f7b3"
      },
      "execution_count": null,
      "outputs": [
        {
          "output_type": "stream",
          "name": "stdout",
          "text": [
            "Momentum:\n",
            "Loss: 0.42668235475722677\n",
            "RMSE: 0.652427\n",
            "Adagrad:\n",
            "Loss: 0.5450053513070482\n",
            "RMSE: 0.702328\n",
            "GradientDescent:\n",
            "Loss: 0.42663003504343877\n",
            "RMSE: 0.652402\n",
            "StochasticDescent:\n",
            "Loss: 0.4604233625190009\n",
            "RMSE: 0.652391\n"
          ]
        }
      ]
    },
    {
      "cell_type": "markdown",
      "source": [
        "Увеличение количества итераций уменьшает значение loss функции, если модель не успела доучиться,сили не сильно изменяет результат, если прошло уже достаточное количесво итераций."
      ],
      "metadata": {
        "id": "3ow_UmKB7pzU"
      }
    },
    {
      "cell_type": "code",
      "source": [
        "models['Momentum'].alpha = 0.001\n",
        "models['Adagrad'].alpha = 0.1\n",
        "models['GradientDescent'].alpha = 0.01\n",
        "models['StochasticDescent'].alpha = 0.01\n",
        "\n",
        "try_model('Momentum', X_train_scaled, X_test_scaled, y_train, y_test)\n",
        "try_model('Adagrad', X_train_scaled, X_test_scaled, y_train, y_test)\n",
        "try_model('GradientDescent', X_train_scaled, X_test_scaled, y_train, y_test)\n",
        "try_model('StochasticDescent', X_train_scaled, X_test_scaled, y_train, y_test)\n",
        "\n",
        "models['Momentum'].alpha = 0.0001\n",
        "models['Adagrad'].alpha = 0.01\n",
        "models['GradientDescent'].alpha = 0.001\n",
        "models['StochasticDescent'].alpha = 0.001"
      ],
      "metadata": {
        "colab": {
          "base_uri": "https://localhost:8080/"
        },
        "id": "93lR1DrU-T0R",
        "outputId": "99e25a05-1f0b-41a1-c2a3-215b4ae11e88"
      },
      "execution_count": null,
      "outputs": [
        {
          "output_type": "stream",
          "name": "stdout",
          "text": [
            "Momentum:\n",
            "Loss: 0.42669393747522505\n",
            "RMSE: 0.652433\n",
            "Adagrad:\n",
            "Loss: 0.4418009470134921\n",
            "RMSE: 0.653959\n",
            "GradientDescent:\n",
            "Loss: 0.4266469142824733\n",
            "RMSE: 0.652407\n",
            "StochasticDescent:\n",
            "Loss: 0.46060381621332136\n",
            "RMSE: 0.652376\n"
          ]
        }
      ]
    },
    {
      "cell_type": "markdown",
      "source": [
        "При изменении alpha трудно проследить изменения loss функции, так как alpha контролирует степень, с которой предыдущие шаги учитываются в текущем направлении градиентного спуска."
      ],
      "metadata": {
        "id": "hCGo_m8M-6vV"
      }
    },
    {
      "cell_type": "markdown",
      "metadata": {
        "id": "bqYtVqv-y-Qu"
      },
      "source": [
        "#### 9. [1 point] Plot graphs of the loss function values ​​as a function of the iteration number for all models (full gradient descent, stochastic gc, Momentum, and Adagrad). Draw conclusions about the convergence rate of various modifications of gradient descent.\n",
        "\n",
        "Don't forget about what a *nice* graph should look like!"
      ]
    },
    {
      "cell_type": "code",
      "execution_count": null,
      "metadata": {
        "id": "Xbwhu8BSy-Qu",
        "colab": {
          "base_uri": "https://localhost:8080/",
          "height": 801
        },
        "outputId": "314db578-aaa5-4005-9ae4-a6faec8c7abd"
      },
      "outputs": [
        {
          "output_type": "display_data",
          "data": {
            "text/plain": [
              "<Figure size 1200x800 with 1 Axes>"
            ],
            "image/png": "[encoded data removed]"
          },
          "metadata": {}
        }
      ],
      "source": [
        "# your code here\n",
        "#╰( ͡° ͜ʖ ͡° )つ──☆*:・ﾟ\n",
        "\n",
        "loss_histories = {}\n",
        "\n",
        "# Train each model and collect loss history\n",
        "for model_name, model in models.items():\n",
        "    model.fit(X_train_scaled, y_train)\n",
        "    loss_histories[model_name] = model.loss_history\n",
        "\n",
        "# Plotting the loss function values for each model\n",
        "plt.figure(figsize=(12, 8))\n",
        "\n",
        "for model_name, loss_history in loss_histories.items():\n",
        "    plt.plot(loss_history, label=model_name)\n",
        "\n",
        "# Customize the plot\n",
        "plt.title('Loss Function Convergence for Different Gradient Descent Variants', fontsize=16)\n",
        "plt.xlabel('Iteration Number', fontsize=14)\n",
        "plt.ylabel('Loss Function Value', fontsize=14)\n",
        "plt.legend(fontsize=12)\n",
        "plt.grid(True)\n",
        "plt.tight_layout()\n",
        "\n",
        "# Show the plot\n",
        "plt.show()"
      ]
    },
    {
      "cell_type": "markdown",
      "source": [
        "Adagrad медленно сходится по сравнению с другими методами. Остальные 3 метода показали примерно одинаковый результат. GradientDescent и Momentum сходятся почти одинаково быстро, StochasticDescent чуть медленнее."
      ],
      "metadata": {
        "id": "ajxysFU9CgV6"
      }
    }
  ],
  "metadata": {
    "colab": {
      "provenance": []
    },
    "kernelspec": {
      "display_name": "Python 3 (ipykernel)",
      "language": "python",
      "name": "python3"
    },
    "language_info": {
      "codemirror_mode": {
        "name": "ipython",
        "version": 3
      },
      "file_extension": ".py",
      "mimetype": "text/x-python",
      "name": "python",
      "nbconvert_exporter": "python",
      "pygments_lexer": "ipython3",
      "version": "3.10.9"
    }
  },
  "nbformat": 4,
  "nbformat_minor": 0
}